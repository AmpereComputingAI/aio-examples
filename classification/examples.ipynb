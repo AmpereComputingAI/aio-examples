{
 "cells": [
  {
   "cell_type": "markdown",
   "metadata": {},
   "source": [
    "# Classification Examples\n",
    "\n",
    "<div style=\"text-align: left;\">\n",
    "    <img src=\"../utils/1ampere_logo_®_primary_stacked_rgb.png\" width=\"50%\"/>    \n",
    "</div>\n",
    "\n",
    "&nbsp;\n",
    "\n",
    "Ampere AI software stack is the software acceleration layer of Ampere Cloud Native Processors specifically dedicated to accelerating AI workloads running on Ampere Processors. Ampere Optimized AI Frameworks include PyTorch, TensorFlow, and ONNXRuntime. This drop-in library seamlessly supports all AI applications developed in the most popular AI frameworks. It works  right out-of-the-box without API changes or any additional coding. Additionally, the Ampere AI software engineering team provides the publicly accessbile Ampere Model Library (AML) for testing and benchmarking the performance of Ampere Cloud Native Processors for some of the most common AI inference workloads.\n",
    "\n",
    "Please visit us at https://amperecomputing.com\n",
    "\n",
    "## ImageNet Dataset Overview\n",
    "\n",
    "<div style=\"text-align: left;\">\n",
    "    <img src=\"https://www.image-net.org/static_files/index_files/logo.jpg\" alt=\"Image not found\" style=\"width: 200px;\"/>\n",
    "</div>\n",
    "\n",
    "&nbsp;\n",
    "\n",
    "These examples are using subset of ImageNet classification validation set from year 2012.\n",
    "ImageNet is a large-scale classification dataset that has been instrumental in advancing computer vision and deep learning research.\n",
    "\n",
    "More info can be found here: https://image-net.org/\n",
    "\n",
    "&nbsp;"
   ]
  },
  {
   "cell_type": "code",
   "execution_count": null,
   "metadata": {
    "pycharm": {
     "name": "#%%\n"
    }
   },
   "outputs": [],
   "source": [
    "import os\n",
    "import time\n",
    "import torch\n",
    "import torchvision\n",
    "import subprocess\n",
    "import numpy as np\n",
    "from matplotlib import pyplot as plt\n",
    "\n",
    "from utils.cv.imagenet import ImageNet\n",
    "import utils.benchmark as bench_utils\n",
    "import utils.misc as utils\n",
    "import utils.post_processing as pp\n",
    "import sys\n",
    "import cv2\n",
    "\n",
    "LAT_BATCH_SIZE = 1"
   ]
  },
  {
   "cell_type": "markdown",
   "metadata": {},
   "source": [
    "## Latency with ResNet-50 v1.5 in fp32 precision\n",
    "\n",
    "AIO offers a significant speed-up in standard fp32 inference scenarios. AIO exposes API to control behavior of the optimizer. This example shows the performance of ResNet-50 v1 model in fp32 precision.\n",
    "Original ResNet paper can be found here: https://arxiv.org/pdf/1512.03385.pdf"
   ]
  },
  {
   "cell_type": "code",
   "execution_count": null,
   "metadata": {
    "pycharm": {
     "name": "#%%\n"
    }
   },
   "outputs": [],
   "source": [
    "# ! AIO_NUM_THREADS should be set prior to launching jupyter notebook !\n",
    "num_threads = os.getenv('AIO_NUM_THREADS')\n",
    "if num_threads is None:\n",
    "    print(\"AIO_NUM_THREADS not defined\")\n",
    "    exit()\n",
    "else:\n",
    "    print(\"AIO_NUM_THREADS = {}\".format(num_threads))\n",
    "\n",
    "# Set Pytorch intra thread count, which should match AIO_NUM_THREADS\n",
    "torch.set_num_threads(int(num_threads))\n",
    "\n",
    "# Load model and apply Torchscript for inference deployment\n",
    "model = torchvision.models.__dict__[\"resnet50\"](pretrained=True)\n",
    "model.eval()\n",
    "model_script = torch.jit.script(model)\n",
    "frozen_script = torch.jit.freeze(model_script)\n",
    "\n",
    "# ImageNet dataset initialization\n",
    "input_shape = (224, 224)\n",
    "imagenet = ImageNet(\n",
    "    batch_size=LAT_BATCH_SIZE, \n",
    "    color_model=\"RGB\",\n",
    "    pre_processing=\"PyTorch\",\n",
    "    is1001classes=False,\n",
    "    order='NCHW')\n",
    "\n",
    "input_array = imagenet.get_input_array(input_shape)\n",
    "num_of_runs = imagenet.available_instances\n",
    "if num_of_runs <= 2:\n",
    "    print(\"The first two runs are warm up. Please provide more than two input images\")\n",
    "    exit()\n",
    "\n",
    "torch._C._aio_force_enable()\n",
    "count = 0\n",
    "total_time = 0\n",
    "for _ in range(num_of_runs):\n",
    "    with torch.no_grad():\n",
    "        start = time.time()\n",
    "        output_tensor = frozen_script(torch.from_numpy(input_array))\n",
    "        end = time.time()\n",
    "        output_aio = output_tensor.detach().numpy()\n",
    "        count = count + 1\n",
    "        if count > 2:\n",
    "            total_time += end - start\n",
    "latency_aio = total_time / (count - 2) \n",
    "\n",
    "torch._C._aio_force_disable()\n",
    "count = 0\n",
    "total_time = 0\n",
    "for _ in range(num_of_runs):\n",
    "    with torch.no_grad():\n",
    "        start = time.time()\n",
    "        output_tensor = frozen_script(torch.from_numpy(input_array))\n",
    "        end = time.time()\n",
    "        output_non_aio = output_tensor.detach().numpy()\n",
    "        count = count + 1\n",
    "        if count > 2:\n",
    "            total_time += end - start\n",
    "latency_non_aio = total_time / (count - 2)\n",
    "        "
   ]
  },
  {
   "cell_type": "code",
   "execution_count": null,
   "metadata": {
    "pycharm": {
     "name": "#%%\n"
    }
   },
   "outputs": [],
   "source": [
    "# visualizing output\n",
    "# for the purpose of visualizing results let's load the image without pre-processing\n",
    "img = cv2.imread(str(imagenet.path_to_latest_image))\n",
    "\n",
    "# show the image\n",
    "plt.imshow(cv2.cvtColor(img, cv2.COLOR_BGR2RGB))\n",
    "plt.show()\n",
    "print(\"ResNet-50 v1.5 FP32 predictions with AIO enabled:\")\n",
    "print(\"Latency = {:.0f} ms\".format(latency_aio * 1000))\n",
    "print(\"Top-1 prediction: {}\".format(pp.get_imagenet_names(imagenet.extract_top1(output_aio[0])+1)))\n",
    "print(\"Top-5 predictions: {}\\n\".format(pp.get_imagenet_names(imagenet.extract_top5(output_aio[0])+1)))\n",
    "\n",
    "print(\"ResNet-50 v1.5 FP32 predictions with AIO disabled:\")\n",
    "print(\"Latency = {:.0f} ms\".format(latency_non_aio * 1000))\n",
    "print(\"Top-1 prediction: {}\".format(pp.get_imagenet_names(imagenet.extract_top1(output_non_aio[0])+1)))\n",
    "print(\"Top-5 predictions: {}\\n\".format(pp.get_imagenet_names(imagenet.extract_top5(output_non_aio[0])+1)))"
   ]
  }
 ],
 "metadata": {
  "kernelspec": {
   "display_name": "Python 3 (ipykernel)",
   "language": "python",
   "name": "python3"
  },
  "language_info": {
   "codemirror_mode": {
    "name": "ipython",
    "version": 3
   },
   "file_extension": ".py",
   "mimetype": "text/x-python",
   "name": "python",
   "nbconvert_exporter": "python",
   "pygments_lexer": "ipython3",
   "version": "3.9.6"
  }
 },
 "nbformat": 4,
 "nbformat_minor": 4
}
